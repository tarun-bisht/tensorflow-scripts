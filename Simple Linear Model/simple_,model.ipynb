{
  "nbformat": 4,
  "nbformat_minor": 0,
  "metadata": {
    "colab": {
      "name": "TensorFlow_1.ipynb",
      "version": "0.3.2",
      "provenance": [],
      "collapsed_sections": []
    },
    "kernelspec": {
      "name": "python3",
      "display_name": "Python 3"
    }
  },
  "cells": [
    {
      "cell_type": "markdown",
      "metadata": {
        "id": "BEkD9wz92Jqd",
        "colab_type": "text"
      },
      "source": [
        "## Importing all Dependencies"
      ]
    },
    {
      "cell_type": "code",
      "metadata": {
        "id": "HYGuP1zj1mCw",
        "colab_type": "code",
        "outputId": "972f9dc2-d780-4b49-b6fa-6a1de43a6bd0",
        "colab": {
          "base_uri": "https://localhost:8080/",
          "height": 34
        }
      },
      "source": [
        "import matplotlib.pyplot as plt\n",
        "import tensorflow as tf\n",
        "import numpy as np\n",
        "from sklearn.metrics import confusion_matrix\n",
        "from sklearn.preprocessing import OneHotEncoder\n",
        "print(tf.__version__)"
      ],
      "execution_count": 1,
      "outputs": [
        {
          "output_type": "stream",
          "text": [
            "1.14.0\n"
          ],
          "name": "stdout"
        }
      ]
    },
    {
      "cell_type": "markdown",
      "metadata": {
        "id": "EkW6-Xq42StC",
        "colab_type": "text"
      },
      "source": [
        "## Importing Mnist dataset"
      ]
    },
    {
      "cell_type": "code",
      "metadata": {
        "id": "zUUsyWBS2XVE",
        "colab_type": "code",
        "outputId": "1b69713f-9331-4076-f0b6-db2899a7b0ca",
        "colab": {
          "base_uri": "https://localhost:8080/",
          "height": 224
        }
      },
      "source": [
        "data=tf.keras.datasets.mnist\n",
        "(trainX,trainY),(testX,testY)=data.load_data()\n",
        "trainX=np.array([x.ravel() for x in trainX])\n",
        "testX=np.array([x.ravel() for x in testX])\n",
        "trainX=trainX/255.0\n",
        "testX=testX/255.0\n",
        "one_hot=OneHotEncoder(sparse=False)\n",
        "trainY=one_hot.fit_transform(trainY.reshape(len(trainY),1))\n",
        "testY=one_hot.fit_transform(testY.reshape(len(testY),1))\n",
        "print(\"Shape of Data: \")\n",
        "print(\"Training Examles: \",trainX.shape)\n",
        "print(\"Testing Examples: \",testX.shape)\n",
        "img_size=(28,28)\n",
        "pixels=784\n",
        "num_of_classes=10\n",
        "batch_size=100"
      ],
      "execution_count": 2,
      "outputs": [
        {
          "output_type": "stream",
          "text": [
            "Shape of Data: \n",
            "Training Examles:  (60000, 784)\n",
            "Testing Examples:  (10000, 784)\n"
          ],
          "name": "stdout"
        },
        {
          "output_type": "stream",
          "text": [
            "/usr/local/lib/python3.6/dist-packages/sklearn/preprocessing/_encoders.py:415: FutureWarning: The handling of integer data will change in version 0.22. Currently, the categories are determined based on the range [0, max(values)], while in the future they will be determined based on the unique values.\n",
            "If you want the future behaviour and silence this warning, you can specify \"categories='auto'\".\n",
            "In case you used a LabelEncoder before this OneHotEncoder to convert the categories to integers, then you can now use the OneHotEncoder directly.\n",
            "  warnings.warn(msg, FutureWarning)\n",
            "/usr/local/lib/python3.6/dist-packages/sklearn/preprocessing/_encoders.py:415: FutureWarning: The handling of integer data will change in version 0.22. Currently, the categories are determined based on the range [0, max(values)], while in the future they will be determined based on the unique values.\n",
            "If you want the future behaviour and silence this warning, you can specify \"categories='auto'\".\n",
            "In case you used a LabelEncoder before this OneHotEncoder to convert the categories to integers, then you can now use the OneHotEncoder directly.\n",
            "  warnings.warn(msg, FutureWarning)\n"
          ],
          "name": "stderr"
        }
      ]
    },
    {
      "cell_type": "markdown",
      "metadata": {
        "id": "ycNN7UHhlB4l",
        "colab_type": "text"
      },
      "source": [
        "## Helper Function for Plotting Images and graph\n",
        "\n",
        "---\n",
        "\n"
      ]
    },
    {
      "cell_type": "code",
      "metadata": {
        "id": "gb3ZjIeA-07y",
        "colab_type": "code",
        "colab": {}
      },
      "source": [
        "def plot_images(images, cls_true, cls_pred=None,w=3,h=3):\n",
        "    assert len(images) == len(cls_true)==w*h\n",
        "    fig, axes = plt.subplots(w, h)\n",
        "    fig.subplots_adjust(hspace=0.3, wspace=0.3)\n",
        "    for i, ax in enumerate(axes.flat):\n",
        "        ax.imshow(images[i].reshape(img_size), cmap='binary')\n",
        "        if cls_pred is None:\n",
        "            xlabel = \"True: {0}\".format(cls_true[i])\n",
        "        else:\n",
        "            xlabel = \"True: {0}, Pred: {1}\".format(cls_true[i], cls_pred[i])\n",
        "        ax.set_xlabel(xlabel)\n",
        "        ax.set_xticks([])\n",
        "        ax.set_yticks([])\n",
        "    plt.show()"
      ],
      "execution_count": 0,
      "outputs": []
    },
    {
      "cell_type": "code",
      "metadata": {
        "id": "dCXA-ONCSC_i",
        "colab_type": "code",
        "colab": {}
      },
      "source": [
        "def plot_graph(data):\n",
        "    plt.plot(data)\n",
        "    plt.show()"
      ],
      "execution_count": 0,
      "outputs": []
    },
    {
      "cell_type": "markdown",
      "metadata": {
        "id": "Weey40aYCwnj",
        "colab_type": "text"
      },
      "source": [
        "## Plotting Some of Images with their True Labels"
      ]
    },
    {
      "cell_type": "code",
      "metadata": {
        "id": "R0WJArfT_sjq",
        "colab_type": "code",
        "outputId": "70f6ae50-0614-41dd-8e98-95072426d138",
        "colab": {
          "base_uri": "https://localhost:8080/",
          "height": 266
        }
      },
      "source": [
        "images=testX[0:9]\n",
        "true_class=np.argmax(testY[0:9],axis=1)\n",
        "plot_images(images,true_class)"
      ],
      "execution_count": 5,
      "outputs": [
        {
          "output_type": "display_data",
          "data": {
            "image/png": "[encoded data removed]",
            "text/plain": [
              "<Figure size 432x288 with 9 Axes>"
            ]
          },
          "metadata": {
            "tags": []
          }
        }
      ]
    },
    {
      "cell_type": "markdown",
      "metadata": {
        "id": "9IDUdvPcEG-L",
        "colab_type": "text"
      },
      "source": [
        "## Initializing Graph Components (placeholders and variables)"
      ]
    },
    {
      "cell_type": "code",
      "metadata": {
        "id": "kNXWZHgLAaKA",
        "colab_type": "code",
        "colab": {}
      },
      "source": [
        "x=tf.placeholder(tf.float32,[None,pixels])\n",
        "y=tf.placeholder(tf.float32,[None,num_of_classes])\n",
        "weight=tf.Variable(tf.truncated_normal([pixels,num_of_classes], stddev=0.1))\n",
        "bias=tf.Variable(tf.truncated_normal([1,num_of_classes],stddev=0.1))"
      ],
      "execution_count": 0,
      "outputs": []
    },
    {
      "cell_type": "markdown",
      "metadata": {
        "id": "3KU1ZtCQllJK",
        "colab_type": "text"
      },
      "source": [
        "## Define Model "
      ]
    },
    {
      "cell_type": "code",
      "metadata": {
        "id": "PVfc-RBkJRSd",
        "colab_type": "code",
        "colab": {}
      },
      "source": [
        "y_pred=tf.matmul(x,weight)+bias\n",
        "prediction=tf.nn.softmax(y_pred)"
      ],
      "execution_count": 0,
      "outputs": []
    },
    {
      "cell_type": "markdown",
      "metadata": {
        "id": "wCEGGO4plq69",
        "colab_type": "text"
      },
      "source": [
        "## Define Loss Function and accuracy"
      ]
    },
    {
      "cell_type": "code",
      "metadata": {
        "id": "HKcocHRbKPZ1",
        "colab_type": "code",
        "colab": {}
      },
      "source": [
        "cross_entropy = tf.nn.softmax_cross_entropy_with_logits_v2(labels=y,logits=y_pred)\n",
        "loss = tf.reduce_mean(cross_entropy)\n",
        "accurate = tf.equal(tf.argmax(prediction,axis=1), tf.argmax(y,axis=1))\n",
        "accuracy = tf.reduce_mean(tf.cast(accurate, tf.float32))"
      ],
      "execution_count": 0,
      "outputs": []
    },
    {
      "cell_type": "markdown",
      "metadata": {
        "id": "PvWUDs8KlwoT",
        "colab_type": "text"
      },
      "source": [
        "## Defining Gradient Descent Optimizer"
      ]
    },
    {
      "cell_type": "code",
      "metadata": {
        "id": "QH0uByfCKIsa",
        "colab_type": "code",
        "colab": {}
      },
      "source": [
        "optimizer = tf.train.GradientDescentOptimizer(learning_rate=0.5).minimize(loss)"
      ],
      "execution_count": 0,
      "outputs": []
    },
    {
      "cell_type": "markdown",
      "metadata": {
        "id": "wfp8vohml3Tq",
        "colab_type": "text"
      },
      "source": [
        "## Initialize Session and variables"
      ]
    },
    {
      "cell_type": "code",
      "metadata": {
        "id": "jzPgh_N-F6w3",
        "colab_type": "code",
        "colab": {}
      },
      "source": [
        "session=tf.Session()\n",
        "session.run(tf.global_variables_initializer())"
      ],
      "execution_count": 0,
      "outputs": []
    },
    {
      "cell_type": "code",
      "metadata": {
        "id": "nQJ56hn6jNXu",
        "colab_type": "code",
        "colab": {}
      },
      "source": [
        "feed_dict_test = {x: testX,y: testY}"
      ],
      "execution_count": 0,
      "outputs": []
    },
    {
      "cell_type": "markdown",
      "metadata": {
        "id": "84cWQBsDmKBw",
        "colab_type": "text"
      },
      "source": [
        "## Helper Function to visualize and print accuracy"
      ]
    },
    {
      "cell_type": "code",
      "metadata": {
        "id": "Az8e3AK4HpaT",
        "colab_type": "code",
        "colab": {}
      },
      "source": [
        "def print_accuracy():\n",
        "    acc = session.run(accuracy, feed_dict=feed_dict_test)\n",
        "    print(\"Accuracy on test-set: {0:.1%}\".format(acc))"
      ],
      "execution_count": 0,
      "outputs": []
    },
    {
      "cell_type": "code",
      "metadata": {
        "id": "0VUijJ0qwu_j",
        "colab_type": "code",
        "colab": {}
      },
      "source": [
        "def print_confusion_matrix():\n",
        "    prediction = session.run(y_pred, feed_dict=feed_dict_test)\n",
        "    cls_true=np.argmax(prediction,axis=1)\n",
        "    cm = confusion_matrix(y_true=np.argmax(testY,axis=1),y_pred=cls_true)\n",
        "    plt.imshow(cm, interpolation='nearest', cmap=plt.cm.Blues)\n",
        "    plt.tight_layout()\n",
        "    plt.colorbar()\n",
        "    tick_marks = np.arange(num_of_classes)\n",
        "    plt.xticks(tick_marks, range(num_of_classes))\n",
        "    plt.yticks(tick_marks, range(num_of_classes))\n",
        "    plt.xlabel('Predicted')\n",
        "    plt.ylabel('True')\n",
        "    plt.show()"
      ],
      "execution_count": 0,
      "outputs": []
    },
    {
      "cell_type": "markdown",
      "metadata": {
        "id": "9gMTOIDBmQV8",
        "colab_type": "text"
      },
      "source": [
        "## Train Function"
      ]
    },
    {
      "cell_type": "code",
      "metadata": {
        "id": "JTpoLxKVF2t3",
        "colab_type": "code",
        "colab": {}
      },
      "source": [
        "def train(iterations):\n",
        "    cost=[]\n",
        "    for i in range(iterations):\n",
        "        rnd_index=np.random.choice(len(trainX),batch_size)\n",
        "        x_batch=trainX[rnd_index]\n",
        "        y_batch=trainY[rnd_index]\n",
        "        train_dict={x:x_batch,y:y_batch}\n",
        "        session.run(optimizer,feed_dict=train_dict)\n",
        "        if i % batch_size == 0:\n",
        "            minibatch_loss, minibatch_accuracy = session.run([loss, accuracy],feed_dict={x: x_batch, y: y_batch})\n",
        "            print(\"Iteration\",str(i),\"\\t| Loss =\",str(minibatch_loss),\"\\t| Accuracy =\",str(minibatch_accuracy))\n",
        "            cost.append(minibatch_loss)\n",
        "    return np.array(cost)"
      ],
      "execution_count": 0,
      "outputs": []
    },
    {
      "cell_type": "code",
      "metadata": {
        "id": "ESHl7FaojQu9",
        "colab_type": "code",
        "outputId": "01bd6a60-f352-436e-93e7-908b0b6754c1",
        "colab": {
          "base_uri": "https://localhost:8080/",
          "height": 34
        }
      },
      "source": [
        "print_accuracy()"
      ],
      "execution_count": 15,
      "outputs": [
        {
          "output_type": "stream",
          "text": [
            "Accuracy on test-set: 9.7%\n"
          ],
          "name": "stdout"
        }
      ]
    },
    {
      "cell_type": "code",
      "metadata": {
        "id": "YTgcmW_VwNcj",
        "colab_type": "code",
        "outputId": "65c514fe-9dbb-41ef-f27d-61d6ba734ff7",
        "colab": {
          "base_uri": "https://localhost:8080/",
          "height": 456
        }
      },
      "source": [
        "cost=train(1000)\n",
        "plot_graph(cost)\n",
        "print_accuracy()"
      ],
      "execution_count": 16,
      "outputs": [
        {
          "output_type": "stream",
          "text": [
            "Iteration 0 \t| Loss = 1.8492727 \t| Accuracy = 0.38\n",
            "Iteration 100 \t| Loss = 0.25904763 \t| Accuracy = 0.94\n",
            "Iteration 200 \t| Loss = 0.3832293 \t| Accuracy = 0.91\n",
            "Iteration 300 \t| Loss = 0.39449832 \t| Accuracy = 0.88\n",
            "Iteration 400 \t| Loss = 0.35202956 \t| Accuracy = 0.88\n",
            "Iteration 500 \t| Loss = 0.25944442 \t| Accuracy = 0.91\n",
            "Iteration 600 \t| Loss = 0.3865912 \t| Accuracy = 0.89\n",
            "Iteration 700 \t| Loss = 0.26946878 \t| Accuracy = 0.94\n",
            "Iteration 800 \t| Loss = 0.34746215 \t| Accuracy = 0.92\n",
            "Iteration 900 \t| Loss = 0.28989986 \t| Accuracy = 0.93\n"
          ],
          "name": "stdout"
        },
        {
          "output_type": "display_data",
          "data": {
            "image/png": "[encoded data removed]",
            "text/plain": [
              "<Figure size 432x288 with 1 Axes>"
            ]
          },
          "metadata": {
            "tags": []
          }
        },
        {
          "output_type": "stream",
          "text": [
            "Accuracy on test-set: 91.5%\n"
          ],
          "name": "stdout"
        }
      ]
    },
    {
      "cell_type": "code",
      "metadata": {
        "id": "e08shuVe0CqQ",
        "colab_type": "code",
        "outputId": "443ffe29-8871-4f08-b223-77c9d5c1d9ae",
        "colab": {
          "base_uri": "https://localhost:8080/",
          "height": 311
        }
      },
      "source": [
        "print_confusion_matrix()"
      ],
      "execution_count": 17,
      "outputs": [
        {
          "output_type": "display_data",
          "data": {
            "image/png": "[encoded data removed]",
            "text/plain": [
              "<Figure size 432x288 with 2 Axes>"
            ]
          },
          "metadata": {
            "tags": []
          }
        }
      ]
    }
  ]
}