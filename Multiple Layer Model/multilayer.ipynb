{
  "nbformat": 4,
  "nbformat_minor": 0,
  "metadata": {
    "colab": {
      "name": "Tensorflow_2.ipynb",
      "version": "0.3.2",
      "provenance": [],
      "collapsed_sections": []
    },
    "kernelspec": {
      "name": "python3",
      "display_name": "Python 3"
    }
  },
  "cells": [
    {
      "cell_type": "markdown",
      "metadata": {
        "id": "12YzOLdqvzrk",
        "colab_type": "text"
      },
      "source": [
        "# Importing Dependencies"
      ]
    },
    {
      "cell_type": "code",
      "metadata": {
        "id": "T1rCP91KJh42",
        "colab_type": "code",
        "outputId": "99f35fa5-e68c-48dc-f9a4-45486e11acc9",
        "colab": {
          "base_uri": "https://localhost:8080/",
          "height": 34
        }
      },
      "source": [
        "import matplotlib.pyplot as plt\n",
        "import tensorflow as tf\n",
        "import numpy as np\n",
        "from sklearn.metrics import confusion_matrix # for measuring performance of classification\n",
        "from sklearn.preprocessing import OneHotEncoder # for encoding labels to one hot array \n",
        "print(tf.__version__)"
      ],
      "execution_count": 0,
      "outputs": [
        {
          "output_type": "stream",
          "text": [
            "1.14.0\n"
          ],
          "name": "stdout"
        }
      ]
    },
    {
      "cell_type": "code",
      "metadata": {
        "id": "Dlv5zfSEJj3F",
        "colab_type": "code",
        "outputId": "0a125849-d581-462a-aa98-6b3c2aca4b29",
        "colab": {
          "base_uri": "https://localhost:8080/",
          "height": 156
        }
      },
      "source": [
        "data=tf.keras.datasets.mnist #Importing Mnist Dataset to notebook\n",
        "(trainX,trainY),(testX,testY)=data.load_data()\n",
        "trainX=np.array([x.ravel() for x in trainX]) #unpacking all pixels of (28x28) image into a single 784 vector\n",
        "testX=np.array([x.ravel() for x in testX]) #unpacking all pixels of (28x28) image into a single 784 vector\n",
        "trainX=trainX/255.0 #Scaling down Values between 0 and 1 to converge fast to optimized value\n",
        "testX=testX/255.0 #Scaling down Values between 0 and 1 to converge fast to optimized value\n",
        "one_hot=OneHotEncoder(sparse=False)\n",
        "trainY=one_hot.fit_transform(trainY.reshape(len(trainY),1)) #encoding labels to one hot vector\n",
        "testY=one_hot.transform(testY.reshape(len(testY),1)) #encoding labels to one hot vector\n",
        "print(\"Shape of Data: \")\n",
        "print(\"Training Examles: \",trainX.shape)\n",
        "print(\"Testing Examples: \",testX.shape)\n",
        "img_size=(28,28)\n",
        "pixels=784\n",
        "num_of_classes=10\n",
        "batch_size=1000"
      ],
      "execution_count": 0,
      "outputs": [
        {
          "output_type": "stream",
          "text": [
            "Shape of Data: \n",
            "Training Examles:  (60000, 784)\n",
            "Testing Examples:  (10000, 784)\n"
          ],
          "name": "stdout"
        },
        {
          "output_type": "stream",
          "text": [
            "/usr/local/lib/python3.6/dist-packages/sklearn/preprocessing/_encoders.py:415: FutureWarning: The handling of integer data will change in version 0.22. Currently, the categories are determined based on the range [0, max(values)], while in the future they will be determined based on the unique values.\n",
            "If you want the future behaviour and silence this warning, you can specify \"categories='auto'\".\n",
            "In case you used a LabelEncoder before this OneHotEncoder to convert the categories to integers, then you can now use the OneHotEncoder directly.\n",
            "  warnings.warn(msg, FutureWarning)\n"
          ],
          "name": "stderr"
        }
      ]
    },
    {
      "cell_type": "markdown",
      "metadata": {
        "id": "rg8oAfafxAMC",
        "colab_type": "text"
      },
      "source": [
        "## Helper Functions for plotting Images and loss graph"
      ]
    },
    {
      "cell_type": "code",
      "metadata": {
        "id": "YKIMcntAJoM1",
        "colab_type": "code",
        "colab": {}
      },
      "source": [
        "def plot_images(images, cls_true, cls_pred=None,w=3,h=3):\n",
        "    assert len(images) == len(cls_true)==w*h\n",
        "    fig, axes = plt.subplots(w, h)\n",
        "    fig.subplots_adjust(hspace=0.3, wspace=0.3)\n",
        "    for i, ax in enumerate(axes.flat):\n",
        "        ax.imshow(images[i].reshape(img_size), cmap='binary')\n",
        "        if cls_pred is None:\n",
        "            xlabel = \"True: {0}\".format(cls_true[i])\n",
        "        else:\n",
        "            xlabel = \"True: {0}, Pred: {1}\".format(cls_true[i], cls_pred[i])\n",
        "        ax.set_xlabel(xlabel)\n",
        "        ax.set_xticks([])\n",
        "        ax.set_yticks([])\n",
        "    plt.show()"
      ],
      "execution_count": 0,
      "outputs": []
    },
    {
      "cell_type": "code",
      "metadata": {
        "id": "CyopxG10JpM0",
        "colab_type": "code",
        "colab": {}
      },
      "source": [
        "def plot_graph(data):\n",
        "    plt.plot(data)\n",
        "    plt.show()"
      ],
      "execution_count": 0,
      "outputs": []
    },
    {
      "cell_type": "markdown",
      "metadata": {
        "id": "kqouIUYtxKlX",
        "colab_type": "text"
      },
      "source": [
        "# Plotting Images with true labels"
      ]
    },
    {
      "cell_type": "code",
      "metadata": {
        "id": "thdIwc3rJujv",
        "colab_type": "code",
        "outputId": "c0ad1873-bbaf-4fc8-9557-5ae7cbea1e04",
        "colab": {
          "base_uri": "https://localhost:8080/",
          "height": 266
        }
      },
      "source": [
        "images=testX[0:9]\n",
        "true_class=np.argmax(testY[0:9],axis=1)\n",
        "plot_images(images,true_class)"
      ],
      "execution_count": 0,
      "outputs": [
        {
          "output_type": "display_data",
          "data": {
            "image/png": "[encoded data removed]",
            "text/plain": [
              "<Figure size 432x288 with 9 Axes>"
            ]
          },
          "metadata": {
            "tags": []
          }
        }
      ]
    },
    {
      "cell_type": "markdown",
      "metadata": {
        "id": "sW93c5HYxPXa",
        "colab_type": "text"
      },
      "source": [
        "# Defining model placeholders and variables"
      ]
    },
    {
      "cell_type": "markdown",
      "metadata": {
        "id": "QLAmMKoNyEht",
        "colab_type": "text"
      },
      "source": [
        "Number of Nodes\n",
        "1. Input Layer=784 (?,784)\n",
        "2. Hidden Layer 1 =512 (?,200)\n",
        "3. Hidden Layer 3=128 (?,128)\n",
        "4. Output Layer=10 (?,10)"
      ]
    },
    {
      "cell_type": "code",
      "metadata": {
        "id": "ek3iR1nqJxfA",
        "colab_type": "code",
        "colab": {}
      },
      "source": [
        "layer1=pixels\n",
        "layer2=512\n",
        "layer3=128\n",
        "layer4=num_of_classes\n",
        "x=tf.placeholder(tf.float32,[None,layer1]) # Input Data\n",
        "y=tf.placeholder(tf.float32,[None,num_of_classes]) # True Labels to comapare with predicted values by network and determine loss\n",
        "#Hidden Layer 1\n",
        "w1=tf.Variable(tf.truncated_normal([layer1, layer2], stddev=0.1))\n",
        "b1=tf.Variable(tf.constant(0.1,shape=[1,layer2]))\n",
        "#Hidden Layer 2\n",
        "w2=tf.Variable(tf.truncated_normal([layer2, layer3], stddev=0.1))\n",
        "b2=tf.Variable(tf.constant(0.1,shape=[1,layer3]))\n",
        "#Output Layer\n",
        "w3=tf.Variable(tf.truncated_normal([layer3, layer4], stddev=0.1))\n",
        "b3=tf.Variable(tf.constant(0.1,shape=[1,layer4]))"
      ],
      "execution_count": 0,
      "outputs": []
    },
    {
      "cell_type": "markdown",
      "metadata": {
        "id": "OIA-vvJc1lH2",
        "colab_type": "text"
      },
      "source": [
        "## Calculation in layers and prediction"
      ]
    },
    {
      "cell_type": "code",
      "metadata": {
        "id": "c_u37-exK5hE",
        "colab_type": "code",
        "colab": {}
      },
      "source": [
        "y1=tf.nn.relu(tf.matmul(x,w1)+b1)\n",
        "y2=tf.nn.relu(tf.matmul(y1,w2)+b2)\n",
        "y_pred=tf.matmul(y2,w3)+b3\n",
        "prediction=tf.nn.softmax(y_pred)"
      ],
      "execution_count": 0,
      "outputs": []
    },
    {
      "cell_type": "markdown",
      "metadata": {
        "id": "tEsqvulO1xll",
        "colab_type": "text"
      },
      "source": [
        "## Defining Loss Function\n",
        "Here Cross Entropy is used because it is better for classification problem. Also Tensorflow Function softmax_cross_entropy() is used which by default calculate softmax before finding cross entropy so no need to pass softmax applied vector to function. Also loss is taken as the mean of values we get from cross entropy.\n",
        "Last two lines are used to find accuracy of model."
      ]
    },
    {
      "cell_type": "code",
      "metadata": {
        "id": "oJiDkAoGLbSi",
        "colab_type": "code",
        "colab": {}
      },
      "source": [
        "cross_entropy = tf.nn.softmax_cross_entropy_with_logits_v2(labels=y,logits=y_pred)\n",
        "loss = tf.reduce_mean(cross_entropy)\n",
        "accurate = tf.equal(tf.argmax(prediction,1), tf.argmax(y,1))\n",
        "accuracy = tf.reduce_mean(tf.cast(accurate, tf.float32))"
      ],
      "execution_count": 0,
      "outputs": []
    },
    {
      "cell_type": "markdown",
      "metadata": {
        "id": "_uPlKM6E2yaL",
        "colab_type": "text"
      },
      "source": [
        "## Defining optimizer for model\n",
        "In this case Gradient Descent is used."
      ]
    },
    {
      "cell_type": "code",
      "metadata": {
        "id": "-iTAEGZDLiBB",
        "colab_type": "code",
        "colab": {}
      },
      "source": [
        "optimizer = tf.train.GradientDescentOptimizer(learning_rate=0.5).minimize(loss)"
      ],
      "execution_count": 0,
      "outputs": []
    },
    {
      "cell_type": "markdown",
      "metadata": {
        "id": "uos7OgBF3An7",
        "colab_type": "text"
      },
      "source": [
        "## Creating Session and Intializing variables"
      ]
    },
    {
      "cell_type": "code",
      "metadata": {
        "id": "LcDUdqfxLlXE",
        "colab_type": "code",
        "colab": {}
      },
      "source": [
        "session=tf.Session()\n",
        "session.run(tf.global_variables_initializer())"
      ],
      "execution_count": 0,
      "outputs": []
    },
    {
      "cell_type": "markdown",
      "metadata": {
        "id": "J5Bs0P353Hla",
        "colab_type": "text"
      },
      "source": [
        "## Feed Dictionary to feed test data"
      ]
    },
    {
      "cell_type": "code",
      "metadata": {
        "id": "B19SSnPQLmJy",
        "colab_type": "code",
        "colab": {}
      },
      "source": [
        "feed_dict_test = {x: testX,y: testY}"
      ],
      "execution_count": 0,
      "outputs": []
    },
    {
      "cell_type": "markdown",
      "metadata": {
        "id": "2sLWgQtZ3PK-",
        "colab_type": "text"
      },
      "source": [
        "## Print Accuracy of model and making Confusion matrix"
      ]
    },
    {
      "cell_type": "code",
      "metadata": {
        "id": "gLc5jou8Lquy",
        "colab_type": "code",
        "colab": {}
      },
      "source": [
        "def print_accuracy():\n",
        "    acc = session.run(accuracy, feed_dict=feed_dict_test)\n",
        "    print(\"Accuracy on test-set: {0:.1%}\".format(acc))"
      ],
      "execution_count": 0,
      "outputs": []
    },
    {
      "cell_type": "code",
      "metadata": {
        "id": "9i6x5f9OLrd4",
        "colab_type": "code",
        "colab": {}
      },
      "source": [
        "def print_confusion_matrix():\n",
        "    prediction = session.run(y_pred, feed_dict=feed_dict_test)\n",
        "    cls_true=np.argmax(prediction,axis=1)\n",
        "    cm = confusion_matrix(y_true=np.argmax(testY,axis=1),y_pred=cls_true)\n",
        "    plt.imshow(cm, interpolation='nearest', cmap=plt.cm.Blues)\n",
        "    plt.tight_layout()\n",
        "    plt.colorbar()\n",
        "    tick_marks = np.arange(num_of_classes)\n",
        "    plt.xticks(tick_marks, range(num_of_classes))\n",
        "    plt.yticks(tick_marks, range(num_of_classes))\n",
        "    plt.xlabel('Predicted')\n",
        "    plt.ylabel('True')\n",
        "    plt.show()"
      ],
      "execution_count": 0,
      "outputs": []
    },
    {
      "cell_type": "markdown",
      "metadata": {
        "id": "rqVmD2dU3YJs",
        "colab_type": "text"
      },
      "source": [
        "## Training Function"
      ]
    },
    {
      "cell_type": "code",
      "metadata": {
        "id": "M34PhbrJLuIp",
        "colab_type": "code",
        "colab": {}
      },
      "source": [
        "def train(iterations):\n",
        "    cost=[]\n",
        "    for i in range(iterations):\n",
        "        rnd_index=np.random.choice(len(trainX),batch_size)\n",
        "        x_batch=trainX[rnd_index]\n",
        "        y_batch=trainY[rnd_index]\n",
        "        train_dict={x:x_batch,y:y_batch}\n",
        "        session.run(optimizer,feed_dict=train_dict)\n",
        "        if i % batch_size == 0:\n",
        "            minibatch_loss, minibatch_accuracy = session.run([loss, accuracy],feed_dict={x: x_batch, y: y_batch})\n",
        "            print(\"Iteration\",str(i),\"\\t| Loss =\",str(minibatch_loss),\"\\t| Accuracy =\",str(minibatch_accuracy))\n",
        "            cost.append(minibatch_loss)\n",
        "    return np.array(cost)"
      ],
      "execution_count": 0,
      "outputs": []
    },
    {
      "cell_type": "markdown",
      "metadata": {
        "id": "Q_ryxAFd3bO3",
        "colab_type": "text"
      },
      "source": [
        "## Check Accuracy before training"
      ]
    },
    {
      "cell_type": "code",
      "metadata": {
        "id": "LAsKFx-RLw5A",
        "colab_type": "code",
        "outputId": "b851a82e-c342-4ac8-8b73-7b023f8e5a25",
        "colab": {
          "base_uri": "https://localhost:8080/",
          "height": 34
        }
      },
      "source": [
        "print_accuracy()"
      ],
      "execution_count": 0,
      "outputs": [
        {
          "output_type": "stream",
          "text": [
            "Accuracy on test-set: 14.5%\n"
          ],
          "name": "stdout"
        }
      ]
    },
    {
      "cell_type": "markdown",
      "metadata": {
        "id": "uN0J7gBn3fja",
        "colab_type": "text"
      },
      "source": [
        "## Training and plotting cost graph"
      ]
    },
    {
      "cell_type": "code",
      "metadata": {
        "id": "ZXl7lCR8LzdY",
        "colab_type": "code",
        "outputId": "c521f3a4-7436-4c14-ac12-431c156175f3",
        "colab": {
          "base_uri": "https://localhost:8080/",
          "height": 456
        }
      },
      "source": [
        "cost=train(1000)\n",
        "plot_graph(cost)\n",
        "print_accuracy()"
      ],
      "execution_count": 0,
      "outputs": [
        {
          "output_type": "stream",
          "text": [
            "Iteration 0 \t| Loss = 2.814019 \t| Accuracy = 0.192\n",
            "Iteration 100 \t| Loss = 0.14393848 \t| Accuracy = 0.955\n",
            "Iteration 200 \t| Loss = 0.10942704 \t| Accuracy = 0.966\n",
            "Iteration 300 \t| Loss = 0.08021873 \t| Accuracy = 0.979\n",
            "Iteration 400 \t| Loss = 0.05665708 \t| Accuracy = 0.987\n",
            "Iteration 500 \t| Loss = 0.040677488 \t| Accuracy = 0.993\n",
            "Iteration 600 \t| Loss = 0.056773186 \t| Accuracy = 0.989\n",
            "Iteration 700 \t| Loss = 0.03509536 \t| Accuracy = 0.993\n",
            "Iteration 800 \t| Loss = 0.025830396 \t| Accuracy = 0.995\n",
            "Iteration 900 \t| Loss = 0.019596523 \t| Accuracy = 0.998\n"
          ],
          "name": "stdout"
        },
        {
          "output_type": "display_data",
          "data": {
            "image/png": "[encoded data removed]",
            "text/plain": [
              "<Figure size 432x288 with 1 Axes>"
            ]
          },
          "metadata": {
            "tags": []
          }
        },
        {
          "output_type": "stream",
          "text": [
            "Accuracy on test-set: 97.6%\n"
          ],
          "name": "stdout"
        }
      ]
    },
    {
      "cell_type": "code",
      "metadata": {
        "id": "tzaSGIMRL3EL",
        "colab_type": "code",
        "outputId": "5b4cc889-640c-43ab-9cdf-0821a0c5103f",
        "colab": {
          "base_uri": "https://localhost:8080/",
          "height": 328
        }
      },
      "source": [
        "print_confusion_matrix()\n",
        "print_accuracy()"
      ],
      "execution_count": 0,
      "outputs": [
        {
          "output_type": "display_data",
          "data": {
            "image/png": "[encoded data removed]",
            "text/plain": [
              "<Figure size 432x288 with 2 Axes>"
            ]
          },
          "metadata": {
            "tags": []
          }
        },
        {
          "output_type": "stream",
          "text": [
            "Accuracy on test-set: 97.6%\n"
          ],
          "name": "stdout"
        }
      ]
    }
  ]
}