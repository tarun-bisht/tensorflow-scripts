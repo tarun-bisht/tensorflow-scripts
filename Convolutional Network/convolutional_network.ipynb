{
  "nbformat": 4,
  "nbformat_minor": 0,
  "metadata": {
    "colab": {
      "name": "Convolutional",
      "version": "0.3.2",
      "provenance": [],
      "collapsed_sections": []
    },
    "kernelspec": {
      "name": "python3",
      "display_name": "Python 3"
    }
  },
  "cells": [
    {
      "cell_type": "markdown",
      "metadata": {
        "id": "DQ_MRo0lBh-s",
        "colab_type": "text"
      },
      "source": [
        "## Importing Dependencies"
      ]
    },
    {
      "cell_type": "code",
      "metadata": {
        "id": "U6zAUBJxPgFh",
        "colab_type": "code",
        "colab": {}
      },
      "source": [
        "import tensorflow as tf\n",
        "import numpy as np\n",
        "import matplotlib.pyplot as plt\n",
        "from sklearn.metrics import confusion_matrix\n",
        "from sklearn.preprocessing import OneHotEncoder"
      ],
      "execution_count": 0,
      "outputs": []
    },
    {
      "cell_type": "markdown",
      "metadata": {
        "id": "OU0kPAIFBl7T",
        "colab_type": "text"
      },
      "source": [
        "## Importing data and Preprocessing it for training"
      ]
    },
    {
      "cell_type": "code",
      "metadata": {
        "id": "sroI0nlXZ0gH",
        "colab_type": "code",
        "outputId": "a07482d2-2074-46b4-8b31-32f2b386b875",
        "colab": {
          "base_uri": "https://localhost:8080/",
          "height": 224
        }
      },
      "source": [
        "data=tf.keras.datasets.mnist\n",
        "(trainX,trainY),(testX,testY)=data.load_data()\n",
        "num_of_channels=1\n",
        "trainX=trainX/255.0\n",
        "testX=testX/255.0\n",
        "shape_train=trainX.shape\n",
        "shape_test=testX.shape\n",
        "trainX=trainX.reshape([shape_train[0],shape_train[1],shape_train[2],num_of_channels])\n",
        "testX=testX.reshape([shape_test[0],shape_test[1],shape_test[2],num_of_channels])\n",
        "enc=OneHotEncoder(sparse=False)\n",
        "trainY=enc.fit_transform(trainY.reshape(len(trainY),1))\n",
        "testY=enc.fit_transform(testY.reshape(len(testY),1))\n",
        "print(\"Shape of Data\")\n",
        "print(\"Training Data \",trainX.shape)\n",
        "print(\"Test Data \",testX.shape)\n",
        "batch_size=250\n",
        "learning_rate=0.001\n",
        "img_size=(28,28)\n",
        "num_of_classes=10"
      ],
      "execution_count": 0,
      "outputs": [
        {
          "output_type": "stream",
          "text": [
            "Shape of Data\n",
            "Training Data  (60000, 28, 28, 1)\n",
            "Test Data  (10000, 28, 28, 1)\n"
          ],
          "name": "stdout"
        },
        {
          "output_type": "stream",
          "text": [
            "/usr/local/lib/python3.6/dist-packages/sklearn/preprocessing/_encoders.py:415: FutureWarning: The handling of integer data will change in version 0.22. Currently, the categories are determined based on the range [0, max(values)], while in the future they will be determined based on the unique values.\n",
            "If you want the future behaviour and silence this warning, you can specify \"categories='auto'\".\n",
            "In case you used a LabelEncoder before this OneHotEncoder to convert the categories to integers, then you can now use the OneHotEncoder directly.\n",
            "  warnings.warn(msg, FutureWarning)\n",
            "/usr/local/lib/python3.6/dist-packages/sklearn/preprocessing/_encoders.py:415: FutureWarning: The handling of integer data will change in version 0.22. Currently, the categories are determined based on the range [0, max(values)], while in the future they will be determined based on the unique values.\n",
            "If you want the future behaviour and silence this warning, you can specify \"categories='auto'\".\n",
            "In case you used a LabelEncoder before this OneHotEncoder to convert the categories to integers, then you can now use the OneHotEncoder directly.\n",
            "  warnings.warn(msg, FutureWarning)\n"
          ],
          "name": "stderr"
        }
      ]
    },
    {
      "cell_type": "markdown",
      "metadata": {
        "id": "pje5x6NiBuWK",
        "colab_type": "text"
      },
      "source": [
        "## Helper Functions to plot Images"
      ]
    },
    {
      "cell_type": "code",
      "metadata": {
        "id": "REYWFI3GZ_Sj",
        "colab_type": "code",
        "colab": {}
      },
      "source": [
        "def plot_images(images, cls_true, cls_pred=None,w=3,h=3):\n",
        "    assert len(images) == len(cls_true)==w*h\n",
        "    fig, axes = plt.subplots(w, h)\n",
        "    fig.subplots_adjust(hspace=0.3, wspace=0.3)\n",
        "    for i, ax in enumerate(axes.flat):\n",
        "        ax.imshow(images[i].reshape(img_size), cmap='binary')\n",
        "        if cls_pred is None:\n",
        "            xlabel = \"True: {0}\".format(cls_true[i])\n",
        "        else:\n",
        "            xlabel = \"True: {0}, Pred: {1}\".format(cls_true[i], cls_pred[i])\n",
        "        ax.set_xlabel(xlabel)\n",
        "        ax.set_xticks([])\n",
        "        ax.set_yticks([])\n",
        "    plt.show()"
      ],
      "execution_count": 0,
      "outputs": []
    },
    {
      "cell_type": "code",
      "metadata": {
        "id": "iROGVI4BaMX8",
        "colab_type": "code",
        "colab": {}
      },
      "source": [
        "def plot_graph(data):\n",
        "    plt.plot(data)\n",
        "    plt.show()"
      ],
      "execution_count": 0,
      "outputs": []
    },
    {
      "cell_type": "markdown",
      "metadata": {
        "id": "TzLjVcX9BzUv",
        "colab_type": "text"
      },
      "source": [
        "## Checking some Images by plotting them with true labels"
      ]
    },
    {
      "cell_type": "code",
      "metadata": {
        "id": "ZjyVbN0EaQmN",
        "colab_type": "code",
        "outputId": "01294915-ef9a-4e34-a105-2d5543be3fa5",
        "colab": {
          "base_uri": "https://localhost:8080/",
          "height": 266
        }
      },
      "source": [
        "images=testX[0:9]\n",
        "true_class=np.argmax(testY[0:9],axis=1)\n",
        "plot_images(images,true_class)"
      ],
      "execution_count": 0,
      "outputs": [
        {
          "output_type": "display_data",
          "data": {
            "image/png": "[encoded data removed]",
            "text/plain": [
              "<Figure size 432x288 with 9 Axes>"
            ]
          },
          "metadata": {
            "tags": []
          }
        }
      ]
    },
    {
      "cell_type": "markdown",
      "metadata": {
        "id": "clgHsvDwB_Tp",
        "colab_type": "text"
      },
      "source": [
        "## Functions to Create Weight and Biases baased on shape provided as parameter"
      ]
    },
    {
      "cell_type": "code",
      "metadata": {
        "id": "ilriIzqyaVLk",
        "colab_type": "code",
        "colab": {}
      },
      "source": [
        "def weights(shape):\n",
        "    return tf.Variable(tf.truncated_normal(shape,stddev=0.1))"
      ],
      "execution_count": 0,
      "outputs": []
    },
    {
      "cell_type": "code",
      "metadata": {
        "id": "G0yrq-eXes5I",
        "colab_type": "code",
        "colab": {}
      },
      "source": [
        "def bias(shape):\n",
        "    return tf.Variable(tf.truncated_normal(shape,stddev=0.1))"
      ],
      "execution_count": 0,
      "outputs": []
    },
    {
      "cell_type": "markdown",
      "metadata": {
        "id": "0oKjHAGSCHKz",
        "colab_type": "text"
      },
      "source": [
        "## Function for making a Convolutional 2D Layer"
      ]
    },
    {
      "cell_type": "code",
      "metadata": {
        "id": "sBPOics0e9aH",
        "colab_type": "code",
        "colab": {}
      },
      "source": [
        "def Conv(input,filter_size=2,num_of_filters=10,input_channel=3,padding=\"SAME\",strides=[1,1,1,1],pooling=False,pool_size=[1,2,2,1],pool_strides=[1,1,1,1]):\n",
        "    shape=[filter_size,filter_size,input_channel,num_of_filters]\n",
        "    w=weights(shape)\n",
        "    b=bias([shape[-1]])\n",
        "    layer=tf.nn.conv2d(input,filter=w,strides=strides,padding=padding)\n",
        "    layer+=b\n",
        "    if pooling:\n",
        "        layer=tf.nn.max_pool(layer,ksize=pool_size,strides=pool_strides,padding=padding)\n",
        "    layer=tf.nn.relu(layer)\n",
        "    return layer"
      ],
      "execution_count": 0,
      "outputs": []
    },
    {
      "cell_type": "markdown",
      "metadata": {
        "id": "Xh6m2lCUCPo6",
        "colab_type": "text"
      },
      "source": [
        "## Function to flatten the output from Convolutional layer to be feed to Dense Layer of neural network"
      ]
    },
    {
      "cell_type": "code",
      "metadata": {
        "id": "ZubrhkpXjjDq",
        "colab_type": "code",
        "colab": {}
      },
      "source": [
        "def Flatten(input):\n",
        "    shape=input.shape\n",
        "    features=1\n",
        "    for i in shape[1:]:\n",
        "        features*=i\n",
        "    input=tf.reshape(input,[-1,features])\n",
        "    return input"
      ],
      "execution_count": 0,
      "outputs": []
    },
    {
      "cell_type": "markdown",
      "metadata": {
        "id": "weYBpbsECbYI",
        "colab_type": "text"
      },
      "source": [
        "## Function to for making a neural network layer"
      ]
    },
    {
      "cell_type": "code",
      "metadata": {
        "id": "0ZPHPOFcoCK2",
        "colab_type": "code",
        "colab": {}
      },
      "source": [
        "def Dense(input,output_size):\n",
        "    shape_weight=int(input.shape[-1])\n",
        "    w=weights([shape_weight,output_size])\n",
        "    b=bias([1,output_size])\n",
        "    layer=tf.matmul(input,w)+b\n",
        "    layer=tf.nn.relu(layer)\n",
        "    return layer"
      ],
      "execution_count": 0,
      "outputs": []
    },
    {
      "cell_type": "markdown",
      "metadata": {
        "id": "8P-vkhh5Chob",
        "colab_type": "text"
      },
      "source": [
        "## Defining placeholders and creating Layers"
      ]
    },
    {
      "cell_type": "code",
      "metadata": {
        "id": "UEbvD49Mq234",
        "colab_type": "code",
        "colab": {}
      },
      "source": [
        "# Layer1\n",
        "filters_1=16\n",
        "#Layer2\n",
        "filters_2=32\n",
        "#Layer3 Flatten\n",
        "#Layer3 Fully Connected Layer\n",
        "x=tf.placeholder(tf.float32,[None,img_size[0],img_size[1],num_of_channels])\n",
        "y=tf.placeholder(tf.float32,[None,num_of_classes])"
      ],
      "execution_count": 0,
      "outputs": []
    },
    {
      "cell_type": "code",
      "metadata": {
        "id": "KPbqM-2Wr8rP",
        "colab_type": "code",
        "colab": {}
      },
      "source": [
        "conv_1=Conv(x, filter_size=3,num_of_filters=filters_1,input_channel=num_of_channels,pooling=True)"
      ],
      "execution_count": 0,
      "outputs": []
    },
    {
      "cell_type": "code",
      "metadata": {
        "id": "BlELlo0Ts2zq",
        "colab_type": "code",
        "colab": {}
      },
      "source": [
        "conv_2=Conv(conv_1,filter_size=5,num_of_filters=filters_2,input_channel=filters_1,pooling=True)"
      ],
      "execution_count": 0,
      "outputs": []
    },
    {
      "cell_type": "code",
      "metadata": {
        "id": "Mw821fdYtE7-",
        "colab_type": "code",
        "colab": {}
      },
      "source": [
        "flat_layer=Flatten(conv_2)"
      ],
      "execution_count": 0,
      "outputs": []
    },
    {
      "cell_type": "markdown",
      "metadata": {
        "id": "Jn6zt6xmCp9J",
        "colab_type": "text"
      },
      "source": [
        "## Getting Prediction from network to generate loss "
      ]
    },
    {
      "cell_type": "code",
      "metadata": {
        "id": "EKoC8dJltKQ5",
        "colab_type": "code",
        "colab": {}
      },
      "source": [
        "layer1=Dense(flat_layer,128)\n",
        "y_pred=Dense(layer1,num_of_classes)\n",
        "prediction=tf.nn.softmax(y_pred)"
      ],
      "execution_count": 0,
      "outputs": []
    },
    {
      "cell_type": "markdown",
      "metadata": {
        "id": "Cf0WHyuHCzhj",
        "colab_type": "text"
      },
      "source": [
        "## Defining our loss Function and optimizer"
      ]
    },
    {
      "cell_type": "code",
      "metadata": {
        "id": "vFd2lJ6RtuLV",
        "colab_type": "code",
        "colab": {}
      },
      "source": [
        "cross_entropy=tf.nn.softmax_cross_entropy_with_logits_v2(labels=y,logits=y_pred)\n",
        "loss=tf.reduce_mean(cross_entropy)/batch_size\n",
        "accurate = tf.equal(tf.argmax(prediction,1), tf.argmax(y,1))\n",
        "accuracy = tf.reduce_mean(tf.cast(accurate, tf.float32))"
      ],
      "execution_count": 0,
      "outputs": []
    },
    {
      "cell_type": "code",
      "metadata": {
        "id": "zqRWjDWWuFyE",
        "colab_type": "code",
        "colab": {}
      },
      "source": [
        "optimizer=tf.train.AdamOptimizer(learning_rate=learning_rate).minimize(loss)"
      ],
      "execution_count": 0,
      "outputs": []
    },
    {
      "cell_type": "markdown",
      "metadata": {
        "id": "gFgvTjdHC333",
        "colab_type": "text"
      },
      "source": [
        "## Creating and initializing tensorflow session"
      ]
    },
    {
      "cell_type": "code",
      "metadata": {
        "id": "tf9MYy8iuV8k",
        "colab_type": "code",
        "colab": {}
      },
      "source": [
        "session=tf.Session()\n",
        "session.run(tf.global_variables_initializer())"
      ],
      "execution_count": 0,
      "outputs": []
    },
    {
      "cell_type": "markdown",
      "metadata": {
        "id": "n-btYaktC-3M",
        "colab_type": "text"
      },
      "source": [
        "## Feed Dict for finding accuracy"
      ]
    },
    {
      "cell_type": "code",
      "metadata": {
        "id": "RFMsHTy8ue3A",
        "colab_type": "code",
        "colab": {}
      },
      "source": [
        "feed_dict_test = {x: testX,y: testY}"
      ],
      "execution_count": 0,
      "outputs": []
    },
    {
      "cell_type": "markdown",
      "metadata": {
        "id": "_0i47aO8DF5y",
        "colab_type": "text"
      },
      "source": [
        "## Function to print accuracy of model on test data"
      ]
    },
    {
      "cell_type": "code",
      "metadata": {
        "id": "XRrTsO-Juf39",
        "colab_type": "code",
        "colab": {}
      },
      "source": [
        "def print_accuracy():\n",
        "    acc = session.run(accuracy, feed_dict=feed_dict_test)\n",
        "    print(\"Accuracy on test-set: {0:.1%}\".format(acc))"
      ],
      "execution_count": 0,
      "outputs": []
    },
    {
      "cell_type": "markdown",
      "metadata": {
        "id": "aN5IahujDK-Y",
        "colab_type": "text"
      },
      "source": [
        "## Plotting Confusion Matrix for getting idea of accuracy"
      ]
    },
    {
      "cell_type": "code",
      "metadata": {
        "id": "aWLM9-Ltujbq",
        "colab_type": "code",
        "colab": {}
      },
      "source": [
        "def print_confusion_matrix():\n",
        "    prediction = session.run(y_pred, feed_dict=feed_dict_test)\n",
        "    cls_true=np.argmax(prediction,axis=1)\n",
        "    cm = confusion_matrix(y_true=np.argmax(testY,axis=1),y_pred=cls_true)\n",
        "    plt.imshow(cm, interpolation='nearest', cmap=plt.cm.Blues)\n",
        "    plt.tight_layout()\n",
        "    plt.colorbar()\n",
        "    tick_marks = np.arange(num_of_classes)\n",
        "    plt.xticks(tick_marks, range(num_of_classes))\n",
        "    plt.yticks(tick_marks, range(num_of_classes))\n",
        "    plt.xlabel('Predicted')\n",
        "    plt.ylabel('True')\n",
        "    plt.show()"
      ],
      "execution_count": 0,
      "outputs": []
    },
    {
      "cell_type": "markdown",
      "metadata": {
        "id": "FLXydoBiDc4P",
        "colab_type": "text"
      },
      "source": [
        "## Training Function"
      ]
    },
    {
      "cell_type": "code",
      "metadata": {
        "id": "RjJzOrwuumAv",
        "colab_type": "code",
        "colab": {}
      },
      "source": [
        "def train(iterations):\n",
        "    cost=[]\n",
        "    for i in range(iterations):\n",
        "        rnd_index=np.random.choice(len(trainX),batch_size)\n",
        "        x_batch=trainX[rnd_index]\n",
        "        y_batch=trainY[rnd_index]\n",
        "        train_dict={x:x_batch,y:y_batch}\n",
        "        session.run(optimizer,feed_dict=train_dict)\n",
        "        if i % 100 == 0:\n",
        "            minibatch_loss, minibatch_accuracy = session.run([loss, accuracy],feed_dict={x: x_batch, y: y_batch})\n",
        "            print(\"Iteration {0}  |   Loss = {1}  |   Accuracy = {2:.1%}\".format(i,minibatch_loss,minibatch_accuracy))\n",
        "            cost.append(minibatch_loss)\n",
        "    return np.array(cost)"
      ],
      "execution_count": 0,
      "outputs": []
    },
    {
      "cell_type": "markdown",
      "metadata": {
        "id": "Uj5FartRDkle",
        "colab_type": "text"
      },
      "source": [
        "## Printing accuracy of network before training"
      ]
    },
    {
      "cell_type": "code",
      "metadata": {
        "id": "jTeuz_Xwuow5",
        "colab_type": "code",
        "outputId": "f75594de-7c5e-4dce-80ac-acb4feef79f8",
        "colab": {
          "base_uri": "https://localhost:8080/",
          "height": 34
        }
      },
      "source": [
        "print_accuracy()"
      ],
      "execution_count": 0,
      "outputs": [
        {
          "output_type": "stream",
          "text": [
            "Accuracy on test-set: 10.7%\n"
          ],
          "name": "stdout"
        }
      ]
    },
    {
      "cell_type": "markdown",
      "metadata": {
        "id": "e7x2mmoSDtJH",
        "colab_type": "text"
      },
      "source": [
        "## Training our ConvNet and plotting its loss"
      ]
    },
    {
      "cell_type": "code",
      "metadata": {
        "id": "JqqTLInWurLO",
        "colab_type": "code",
        "outputId": "7e9e075a-5cd2-44f9-e4eb-b223b3c4399e",
        "colab": {
          "base_uri": "https://localhost:8080/",
          "height": 374
        }
      },
      "source": [
        "cost=train(1000)\n",
        "plot_graph(cost)\n",
        "print_accuracy()"
      ],
      "execution_count": 0,
      "outputs": [
        {
          "output_type": "stream",
          "text": [
            "Iteration 0  |   Loss = 0.010572749190032482  |   Accuracy = 10.4%\n",
            "Iteration 100  |   Loss = 0.003917786758393049  |   Accuracy = 60.4%\n",
            "Iteration 200  |   Loss = 0.003339366754516959  |   Accuracy = 66.4%\n",
            "Iteration 300  |   Loss = 0.002995481248944998  |   Accuracy = 68.4%\n",
            "Iteration 400  |   Loss = 0.0032795947045087814  |   Accuracy = 65.2%\n",
            "Iteration 500  |   Loss = 0.003163429908454418  |   Accuracy = 66.4%\n",
            "Iteration 600  |   Loss = 0.003261422272771597  |   Accuracy = 66.0%\n",
            "Iteration 700  |   Loss = 0.003092658007517457  |   Accuracy = 66.8%\n",
            "Iteration 800  |   Loss = 0.002935132710263133  |   Accuracy = 68.8%\n",
            "Iteration 900  |   Loss = 0.0030780783854424953  |   Accuracy = 67.2%\n",
            "Iteration 1000  |   Loss = 0.002765329321846366  |   Accuracy = 70.4%\n",
            "Iteration 1100  |   Loss = 0.002985544502735138  |   Accuracy = 68.0%\n",
            "Iteration 1200  |   Loss = 0.002993072150275111  |   Accuracy = 68.8%\n",
            "Iteration 1300  |   Loss = 0.003306660335510969  |   Accuracy = 64.0%\n",
            "Iteration 1400  |   Loss = 0.0026985390577465296  |   Accuracy = 70.8%\n",
            "Iteration 1500  |   Loss = 0.0028961647767573595  |   Accuracy = 68.8%\n",
            "Iteration 1600  |   Loss = 0.002333375159651041  |   Accuracy = 74.8%\n",
            "Iteration 1700  |   Loss = 0.0025212641339749098  |   Accuracy = 72.8%\n",
            "Iteration 1800  |   Loss = 0.0031058453023433685  |   Accuracy = 66.4%\n",
            "Iteration 1900  |   Loss = 0.0024207052774727345  |   Accuracy = 74.0%\n",
            "Iteration 2000  |   Loss = 0.0032548101153224707  |   Accuracy = 64.8%\n"
          ],
          "name": "stdout"
        }
      ]
    },
    {
      "cell_type": "markdown",
      "metadata": {
        "id": "ZzNVyKLAD2CN",
        "colab_type": "text"
      },
      "source": [
        "## Plotting Confusion matrix to get idea of model"
      ]
    },
    {
      "cell_type": "code",
      "metadata": {
        "id": "rohAzQEUutj5",
        "colab_type": "code",
        "outputId": "63547324-5868-44d7-f378-aaa21d550c31",
        "colab": {
          "base_uri": "https://localhost:8080/",
          "height": 328
        }
      },
      "source": [
        "print_confusion_matrix()\n",
        "print_accuracy()"
      ],
      "execution_count": 0,
      "outputs": [
        {
          "output_type": "display_data",
          "data": {
            "image/png": "[encoded data removed]",
            "text/plain": [
              "<Figure size 432x288 with 2 Axes>"
            ]
          },
          "metadata": {
            "tags": []
          }
        },
        {
          "output_type": "stream",
          "text": [
            "Accuracy on test-set: 79.8%\n"
          ],
          "name": "stdout"
        }
      ]
    },
    {
      "cell_type": "markdown",
      "metadata": {
        "id": "CEV-dmqXD-F9",
        "colab_type": "text"
      },
      "source": [
        "## Closing session after use"
      ]
    },
    {
      "cell_type": "code",
      "metadata": {
        "id": "HaHWK9C9qLY3",
        "colab_type": "code",
        "colab": {}
      },
      "source": [
        "session.close()"
      ],
      "execution_count": 0,
      "outputs": []
    }
  ]
}